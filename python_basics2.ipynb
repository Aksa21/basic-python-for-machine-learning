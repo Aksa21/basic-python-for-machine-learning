{
  "nbformat": 4,
  "nbformat_minor": 0,
  "metadata": {
    "colab": {
      "provenance": [],
      "authorship_tag": "ABX9TyMbdWcWFd/Sy6nH+JijkViv",
      "include_colab_link": true
    },
    "kernelspec": {
      "name": "python3",
      "display_name": "Python 3"
    },
    "language_info": {
      "name": "python"
    }
  },
  "cells": [
    {
      "cell_type": "markdown",
      "metadata": {
        "id": "view-in-github",
        "colab_type": "text"
      },
      "source": [
        "<a href=\"https://colab.research.google.com/github/Aksa21/basic-python-for-machine-learning/blob/main/python_basics2.ipynb\" target=\"_parent\"><img src=\"https://colab.research.google.com/assets/colab-badge.svg\" alt=\"Open In Colab\"/></a>"
      ]
    },
    {
      "cell_type": "code",
      "execution_count": null,
      "metadata": {
        "id": "i_JPjeKmzIey"
      },
      "outputs": [],
      "source": [
        "PYTHON BASICS"
      ]
    },
    {
      "cell_type": "code",
      "source": [
        "#printing string\n",
        "print(\"hi,nice to meet you\")\n",
        "print('Hi there')"
      ],
      "metadata": {
        "colab": {
          "base_uri": "https://localhost:8080/"
        },
        "id": "QOOOOClO0vdC",
        "outputId": "997d3657-7000-4b95-f19f-147eac726542"
      },
      "execution_count": 1,
      "outputs": [
        {
          "output_type": "stream",
          "name": "stdout",
          "text": [
            "hi,nice to meet you\n",
            "Hi there\n"
          ]
        }
      ]
    },
    {
      "cell_type": "markdown",
      "source": [
        "variables"
      ],
      "metadata": {
        "id": "cAKlK6TV2krp"
      }
    },
    {
      "cell_type": "code",
      "source": [
        "a=20     #a integer\n",
        "b=3.14115  #a cfloating point integer\n",
        "c='hell0'   #a string\n",
        "print(a,' ',b,' ',c)\n",
        "#defining a variable:no need to mention data type"
      ],
      "metadata": {
        "colab": {
          "base_uri": "https://localhost:8080/"
        },
        "id": "qBgsW8Au2ojT",
        "outputId": "a98cfb46-6233-4051-8e67-07a7bd9b753c"
      },
      "execution_count": 3,
      "outputs": [
        {
          "output_type": "stream",
          "name": "stdout",
          "text": [
            "20   3.14115   hell0\n"
          ]
        }
      ]
    },
    {
      "cell_type": "markdown",
      "source": [
        "Assignment"
      ],
      "metadata": {
        "id": "zrKKDSyc3y3b"
      }
    },
    {
      "cell_type": "code",
      "source": [
        "#assigning same values to a variable\n",
        "var1=var2=var3=5\n",
        "print(var1,' ',var2,' ',var3)\n",
        "#assigning different values to a variable in single expression\n",
        "var1,var2,var3=4,5.1,'hello'\n",
        "print(var1,' ',var2,' ',var3)"
      ],
      "metadata": {
        "colab": {
          "base_uri": "https://localhost:8080/"
        },
        "id": "U2lC4qgo39dQ",
        "outputId": "72e95bd8-f2d3-4baa-fbcf-d0fb04743f64"
      },
      "execution_count": 4,
      "outputs": [
        {
          "output_type": "stream",
          "name": "stdout",
          "text": [
            "5   5   5\n",
            "4   5.1   hello\n"
          ]
        }
      ]
    },
    {
      "cell_type": "markdown",
      "source": [
        "slicing"
      ],
      "metadata": {
        "id": "e6ArS08r44iD"
      }
    },
    {
      "cell_type": "code",
      "source": [
        "str='everyone'\n",
        "\n",
        "print(str)                    #print whole string\n",
        "print(str[0])          #print first letter\n",
        "print(str[2:5])        #print 3rd to 5 th letter\n",
        "print(str[2:])         #print from 3rd character\n",
        "print(str[ :2])        #print upto 2nd character\n",
        "print(str*2)           #print string 2 times\n",
        "print(str+'TEST')      #print concatenated string"
      ],
      "metadata": {
        "colab": {
          "base_uri": "https://localhost:8080/"
        },
        "id": "BNqGet-l5Ncj",
        "outputId": "99803325-0006-4069-e8e1-4807f37a6765"
      },
      "execution_count": 5,
      "outputs": [
        {
          "output_type": "stream",
          "name": "stdout",
          "text": [
            "everyone\n",
            "e\n",
            "ery\n",
            "eryone\n",
            "ev\n",
            "everyoneeveryone\n",
            "everyoneTEST\n"
          ]
        }
      ]
    },
    {
      "cell_type": "markdown",
      "source": [
        "list,tuples"
      ],
      "metadata": {
        "id": "C00O3F1D6one"
      }
    },
    {
      "cell_type": "code",
      "source": [
        "list=[2.13,'game','token',90,'god']\n",
        "print(list[0])                           #print first element in list\n",
        "print(list[2:4])                        #print el from 3to 4\n"
      ],
      "metadata": {
        "colab": {
          "base_uri": "https://localhost:8080/"
        },
        "id": "bVf7PrbD64Oo",
        "outputId": "1b5f2bf4-ee76-462c-fe13-9d51ff27be50"
      },
      "execution_count": 9,
      "outputs": [
        {
          "output_type": "stream",
          "name": "stdout",
          "text": [
            "2.13\n",
            "['token', 90]\n"
          ]
        }
      ]
    },
    {
      "cell_type": "code",
      "source": [
        "tuple=(56,'lisk',67,99)\n",
        "print(tuple[2:3])"
      ],
      "metadata": {
        "colab": {
          "base_uri": "https://localhost:8080/"
        },
        "id": "9dguICdz8pxy",
        "outputId": "8c5295ae-a561-438c-ea45-0e22aaf2a6a7"
      },
      "execution_count": 10,
      "outputs": [
        {
          "output_type": "stream",
          "name": "stdout",
          "text": [
            "(67,)\n"
          ]
        }
      ]
    },
    {
      "cell_type": "markdown",
      "source": [
        "EXERCISES"
      ],
      "metadata": {
        "id": "CNnqt59o9Ixx"
      }
    },
    {
      "cell_type": "code",
      "source": [
        "list[0]='csdc'                 #repleces previous list first element\n",
        "tuple='csdc'\n",
        "print(list)\n",
        "print(tuple)"
      ],
      "metadata": {
        "colab": {
          "base_uri": "https://localhost:8080/"
        },
        "id": "opayVpjM9Nfp",
        "outputId": "a11b6c6d-e938-4fcc-d186-4759c4a6b09e"
      },
      "execution_count": 11,
      "outputs": [
        {
          "output_type": "stream",
          "name": "stdout",
          "text": [
            "['csdc', 'game', 'token', 90, 'god']\n",
            "csdc\n"
          ]
        }
      ]
    },
    {
      "cell_type": "markdown",
      "source": [],
      "metadata": {
        "id": "aWEMHw0A-XC1"
      }
    },
    {
      "cell_type": "markdown",
      "source": [],
      "metadata": {
        "id": "4qd4t4jm-feB"
      }
    },
    {
      "cell_type": "code",
      "source": [
        "# Lists are ordered sets of objects, whereas dictionaries are unordered sets. But the main difference is that items in dictionaries are accessed via keys and not via their position.\n",
        "tel = {'jack': 4098, 'sape': 4139}\n",
        "tel['guido'] = 4127\n",
        "print(tel)\n",
        "print(tel['jack'])\n",
        "del tel['sape']\n",
        "tel['irv'] = 4127\n",
        "print(tel)\n",
        "print(tel.keys())\n",
        "print(sorted(tel.keys()))\n",
        "print(sorted(tel.values()))\n",
        "print('guido' in tel)\n",
        "print('jack' not in tel)"
      ],
      "metadata": {
        "colab": {
          "base_uri": "https://localhost:8080/"
        },
        "id": "QXcVaBwn-ikB",
        "outputId": "eb577f9d-f46d-4996-a59f-1603761f09ab"
      },
      "execution_count": 12,
      "outputs": [
        {
          "output_type": "stream",
          "name": "stdout",
          "text": [
            "{'jack': 4098, 'sape': 4139, 'guido': 4127}\n",
            "4098\n",
            "{'jack': 4098, 'guido': 4127, 'irv': 4127}\n",
            "dict_keys(['jack', 'guido', 'irv'])\n",
            "['guido', 'irv', 'jack']\n",
            "[4098, 4127, 4127]\n",
            "True\n",
            "False\n"
          ]
        }
      ]
    },
    {
      "cell_type": "markdown",
      "source": [
        "conditioning and looping\n"
      ],
      "metadata": {
        "id": "dtMzLuF7MtiT"
      }
    },
    {
      "cell_type": "code",
      "source": [
        "for i in range(0,10):\n",
        "\n",
        " if i%2 == 0:\n",
        "\n",
        "  print(\"square of\",i,\" is :\",i*i)\n",
        "\n",
        " else:\n",
        "\n",
        "  print(i,\"an odd number\")\n"
      ],
      "metadata": {
        "colab": {
          "base_uri": "https://localhost:8080/"
        },
        "id": "H-YH8HK1MykK",
        "outputId": "6b58c630-d61b-4c17-9be6-4db5a2b20174"
      },
      "execution_count": 19,
      "outputs": [
        {
          "output_type": "stream",
          "name": "stdout",
          "text": [
            "square of 0  is : 0\n",
            "1 an odd number\n",
            "square of 2  is : 4\n",
            "3 an odd number\n",
            "square of 4  is : 16\n",
            "5 an odd number\n",
            "square of 6  is : 36\n",
            "7 an odd number\n",
            "square of 8  is : 64\n",
            "9 an odd number\n"
          ]
        }
      ]
    },
    {
      "cell_type": "markdown",
      "source": [
        "functions"
      ],
      "metadata": {
        "id": "-VOfFR-5PZzo"
      }
    },
    {
      "cell_type": "code",
      "source": [
        "def area(length,width):\n",
        "    return length*width\n",
        "are = area(10,20)\n",
        "print(\"Area of rectangle:\",are)"
      ],
      "metadata": {
        "colab": {
          "base_uri": "https://localhost:8080/"
        },
        "id": "aq7dGv5IPoIZ",
        "outputId": "8a2fca99-a407-4524-a025-ebd44a021901"
      },
      "execution_count": 20,
      "outputs": [
        {
          "output_type": "stream",
          "name": "stdout",
          "text": [
            "Area of rectangle: 200\n"
          ]
        }
      ]
    },
    {
      "cell_type": "markdown",
      "source": [
        "numpy\n",
        "#a numerical package for computing in python"
      ],
      "metadata": {
        "id": "Lgu7VJrsPuag"
      }
    },
    {
      "cell_type": "code",
      "source": [
        "import numpy as np\n",
        "\n",
        "a=np.array([0,8,9])\n",
        "b=np.array([7,9,0])\n",
        "\n",
        "print('Matrix A\\n',a)\n",
        "print('Matrix B\\n',b)\n",
        "\n",
        "print(\"Regular matrix addition A+B\\n\", a + b)\n",
        "\n",
        "print(\"Addition using Broadcasting A+5\\n\", a + 5)   #Subject to certain constraints, the smaller array is “broadcast” across the larger array so that they have compatible shapes"
      ],
      "metadata": {
        "colab": {
          "base_uri": "https://localhost:8080/"
        },
        "id": "n4innBJBQFo8",
        "outputId": "d92671d7-d079-4939-eb7c-f822e1d1070f"
      },
      "execution_count": 21,
      "outputs": [
        {
          "output_type": "stream",
          "name": "stdout",
          "text": [
            "Matrix A\n",
            " [0 8 9]\n",
            "Matrix B\n",
            " [7 9 0]\n",
            "Regular matrix addition A+B\n",
            " [ 7 17  9]\n",
            "Addition using Broadcasting A+5\n",
            " [ 5 13 14]\n"
          ]
        }
      ]
    },
    {
      "cell_type": "markdown",
      "source": [],
      "metadata": {
        "id": "Vjyab3g_Q1wo"
      }
    },
    {
      "cell_type": "markdown",
      "source": [],
      "metadata": {
        "id": "k51gDgnZ3kQZ"
      }
    }
  ]
}